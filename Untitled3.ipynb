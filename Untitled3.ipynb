{
  "nbformat": 4,
  "nbformat_minor": 0,
  "metadata": {
    "colab": {
      "provenance": [],
      "authorship_tag": "ABX9TyMhGSaB3MugkXuFxpuVj+J0",
      "include_colab_link": true
    },
    "kernelspec": {
      "name": "python3",
      "display_name": "Python 3"
    },
    "language_info": {
      "name": "python"
    }
  },
  "cells": [
    {
      "cell_type": "markdown",
      "metadata": {
        "id": "view-in-github",
        "colab_type": "text"
      },
      "source": [
        "<a href=\"https://colab.research.google.com/github/codershiva91/Programming-Assignment--3/blob/main/Untitled3.ipynb\" target=\"_parent\"><img src=\"https://colab.research.google.com/assets/colab-badge.svg\" alt=\"Open In Colab\"/></a>"
      ]
    },
    {
      "cell_type": "markdown",
      "source": [
        "first of install the required libraries"
      ],
      "metadata": {
        "id": "hkGpQX1GOiP-"
      }
    },
    {
      "cell_type": "code",
      "execution_count": 1,
      "metadata": {
        "id": "To2022_yOQbK"
      },
      "outputs": [],
      "source": [
        "from itertools import combinations\n",
        "from fractions import Fraction"
      ]
    },
    {
      "cell_type": "markdown",
      "source": [
        "STEP 1:"
      ],
      "metadata": {
        "id": "wSmr6jckPeGh"
      }
    },
    {
      "cell_type": "code",
      "source": [
        "#total mice\n",
        "total_mice=3"
      ],
      "metadata": {
        "id": "R9CGH_x7O_K6"
      },
      "execution_count": 2,
      "outputs": []
    },
    {
      "cell_type": "markdown",
      "source": [
        "STEP 2:"
      ],
      "metadata": {
        "id": "C9OcwACXPoxi"
      }
    },
    {
      "cell_type": "markdown",
      "source": [
        "# Total possible infection states (0 to 3 mice infected)\n",
        "# Each mouse has two states: infected or not -> 2^3 = 8 possible states"
      ],
      "metadata": {
        "id": "3BQ864bjPWm6"
      }
    },
    {
      "cell_type": "code",
      "source": [
        "states = list(combinations(range(3), 0)) + list(combinations(range(3), 1)) + \\\n",
        "         list(combinations(range(3), 2)) + [tuple(range(3))]"
      ],
      "metadata": {
        "id": "fLNHkoM9O_TY"
      },
      "execution_count": 4,
      "outputs": []
    },
    {
      "cell_type": "markdown",
      "source": [
        "STEP 3:"
      ],
      "metadata": {
        "id": "gbNksjg_Psiw"
      }
    },
    {
      "cell_type": "markdown",
      "source": [
        "# Precompute probabilities for number of infected mice (assuming each mouse is infected with p = 0.5)\n",
        "# Binomial distribution with n = 3, p = 0.5"
      ],
      "metadata": {
        "id": "q0GYDWXqP0MG"
      }
    },
    {
      "cell_type": "code",
      "source": [
        "def binomial_prob(n, k, p=0.5):\n",
        "    from math import comb\n",
        "    return comb(n, k) * (p**k) * ((1 - p)**(n - k))\n",
        "\n",
        "probabilities = {k: binomial_prob(3, k) for k in range(4)}"
      ],
      "metadata": {
        "id": "_--D8tmEO_bh"
      },
      "execution_count": 5,
      "outputs": []
    },
    {
      "cell_type": "markdown",
      "source": [],
      "metadata": {
        "id": "OT1fCTSLP-Jj"
      }
    },
    {
      "cell_type": "markdown",
      "source": [
        "# 1. P(at least 2 infected | exactly 1 infected) = 0 (since only 1 is infected, can't have 2)\n",
        "q1 = 0"
      ],
      "metadata": {
        "id": "gPJ1ly7-P-h2"
      }
    },
    {
      "cell_type": "code",
      "source": [
        "q1=0"
      ],
      "metadata": {
        "id": "fXosvnaJQR8T"
      },
      "execution_count": 6,
      "outputs": []
    },
    {
      "cell_type": "markdown",
      "source": [
        "# 2. P(at least 2 infected | exactly 2 infected) = 1 (since 2 are infected)"
      ],
      "metadata": {
        "id": "EEpV2rHlQWMe"
      }
    },
    {
      "cell_type": "code",
      "source": [
        "q2 = 1"
      ],
      "metadata": {
        "id": "IyXHywzxQcJ8"
      },
      "execution_count": 7,
      "outputs": []
    },
    {
      "cell_type": "markdown",
      "source": [
        "# 3. P(no mice infected)"
      ],
      "metadata": {
        "id": "oOKsZVi3QiVF"
      }
    },
    {
      "cell_type": "code",
      "source": [
        "q2 = 1"
      ],
      "metadata": {
        "id": "2-HAeDtIQfcr"
      },
      "execution_count": 9,
      "outputs": []
    },
    {
      "cell_type": "markdown",
      "source": [
        "# 3. P(no mice infected)"
      ],
      "metadata": {
        "id": "yZ_Xd2-3Qq48"
      }
    },
    {
      "cell_type": "code",
      "source": [
        "q3 = probabilities[0]"
      ],
      "metadata": {
        "id": "f2qjNjbPQw7w"
      },
      "execution_count": 8,
      "outputs": []
    },
    {
      "cell_type": "markdown",
      "source": [
        "# 4. P(all mice infected)"
      ],
      "metadata": {
        "id": "Axlx6uQeQ0g1"
      }
    },
    {
      "cell_type": "code",
      "source": [
        "q4 = probabilities[3]"
      ],
      "metadata": {
        "id": "K6agh1pDQ5cQ"
      },
      "execution_count": 10,
      "outputs": []
    },
    {
      "cell_type": "code",
      "source": [
        " #5. P(exactly 2 infected | at least 2 infected) = P(2 infected) / (P(2 infected) + P(3 infected))"
      ],
      "metadata": {
        "id": "bvqYs2zeRLAh"
      },
      "execution_count": null,
      "outputs": []
    },
    {
      "cell_type": "code",
      "source": [
        "q5 = probabilities[2] / (probabilities[2] + probabilities[3])\n",
        "(q1, q2, q3, q4, q5)"
      ],
      "metadata": {
        "colab": {
          "base_uri": "https://localhost:8080/"
        },
        "id": "HwXjXn8ARRk4",
        "outputId": "359e175e-76d3-4cd3-bb96-c9ffd8dab76a"
      },
      "execution_count": 15,
      "outputs": [
        {
          "output_type": "execute_result",
          "data": {
            "text/plain": [
              "(0, 1, 0.125, 0.125, 0.75)"
            ]
          },
          "metadata": {},
          "execution_count": 15
        }
      ]
    },
    {
      "cell_type": "markdown",
      "source": [
        "1.Probability of at least two mice getting an infection given only one infected mouse\n",
        "\n",
        "Answer:0"
      ],
      "metadata": {
        "id": "WgRrcGGwRkfA"
      }
    },
    {
      "cell_type": "markdown",
      "source": [
        "2.Probability of at least two mice getting an infection given exactly two infected\n",
        "\n",
        "Answer:1"
      ],
      "metadata": {
        "id": "d_cIRU73Rwnq"
      }
    },
    {
      "cell_type": "markdown",
      "source": [
        "3.Probability of completely no mice getting an infection\n",
        "\n",
        "Answer- 0.125"
      ],
      "metadata": {
        "id": "77OL91QoR3rg"
      }
    },
    {
      "cell_type": "markdown",
      "source": [
        "4. Probability of completely all mice getting an infection.\n",
        "\n",
        "Answer:  0.125"
      ],
      "metadata": {
        "id": "KwIgJJUcSDtx"
      }
    },
    {
      "cell_type": "markdown",
      "source": [
        "5. Probability of exactly two infected mice given at least two mice got an infection\n",
        "\n",
        "Answer: .75"
      ],
      "metadata": {
        "id": "Yjw3AblUSQ0f"
      }
    }
  ]
}